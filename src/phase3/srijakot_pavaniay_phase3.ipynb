{
  "cells": [
    {
      "cell_type": "code",
      "execution_count": 3,
      "metadata": {
        "colab": {
          "base_uri": "https://localhost:8080/"
        },
        "id": "IHxWC7Djbm_L",
        "outputId": "166b8c9d-9bdb-40db-f47d-99fabdf63f09"
      },
      "outputs": [
        {
          "output_type": "stream",
          "name": "stdout",
          "text": [
            "Drive already mounted at /content/drive; to attempt to forcibly remount, call drive.mount(\"/content/drive\", force_remount=True).\n",
            "/content/drive\n",
            "/content/drive/MyDrive\n"
          ]
        }
      ],
      "source": [
        "from google.colab import drive\n",
        "drive.mount('/content/drive')\n",
        "%cd ..\n",
        "%cd /content/drive/MyDrive"
      ]
    },
    {
      "cell_type": "code",
      "execution_count": 4,
      "metadata": {
        "id": "RBTrjF_mwlWe"
      },
      "outputs": [],
      "source": [
        "import pickle"
      ]
    },
    {
      "cell_type": "markdown",
      "source": [
        "load the pickle file"
      ],
      "metadata": {
        "id": "yGXZkbP-uY7C"
      }
    },
    {
      "cell_type": "code",
      "execution_count": 5,
      "metadata": {
        "id": "1wMU5GZOxHO5"
      },
      "outputs": [],
      "source": [
        "model = pickle.load(open('knn_pickle_file', 'rb'))"
      ]
    },
    {
      "cell_type": "code",
      "execution_count": 6,
      "metadata": {
        "colab": {
          "base_uri": "https://localhost:8080/"
        },
        "id": "ZPodhQuNg3r8",
        "outputId": "1c9bc2b8-694b-47d9-82ef-59403222207d"
      },
      "outputs": [
        {
          "output_type": "stream",
          "name": "stdout",
          "text": [
            "Requirement already satisfied: Flask in /usr/local/lib/python3.10/dist-packages (2.2.5)\n",
            "Requirement already satisfied: Werkzeug>=2.2.2 in /usr/local/lib/python3.10/dist-packages (from Flask) (3.0.1)\n",
            "Requirement already satisfied: Jinja2>=3.0 in /usr/local/lib/python3.10/dist-packages (from Flask) (3.1.2)\n",
            "Requirement already satisfied: itsdangerous>=2.0 in /usr/local/lib/python3.10/dist-packages (from Flask) (2.1.2)\n",
            "Requirement already satisfied: click>=8.0 in /usr/local/lib/python3.10/dist-packages (from Flask) (8.1.7)\n",
            "Requirement already satisfied: MarkupSafe>=2.0 in /usr/local/lib/python3.10/dist-packages (from Jinja2>=3.0->Flask) (2.1.3)\n",
            "Collecting pyngrok\n",
            "  Downloading pyngrok-7.0.3-py3-none-any.whl (21 kB)\n",
            "Requirement already satisfied: PyYAML in /usr/local/lib/python3.10/dist-packages (from pyngrok) (6.0.1)\n",
            "Installing collected packages: pyngrok\n",
            "Successfully installed pyngrok-7.0.3\n"
          ]
        }
      ],
      "source": [
        "! pip install Flask\n",
        "!pip install pyngrok"
      ]
    },
    {
      "cell_type": "code",
      "execution_count": 7,
      "metadata": {
        "colab": {
          "base_uri": "https://localhost:8080/"
        },
        "id": "oGtT0Blgg_X1",
        "outputId": "e71c1634-e7b0-40e7-e6a9-6d9fbd59a503"
      },
      "outputs": [
        {
          "output_type": "stream",
          "name": "stdout",
          "text": [
            "Collecting flask-ngrok\n",
            "  Downloading flask_ngrok-0.0.25-py3-none-any.whl (3.1 kB)\n",
            "Requirement already satisfied: Flask>=0.8 in /usr/local/lib/python3.10/dist-packages (from flask-ngrok) (2.2.5)\n",
            "Requirement already satisfied: requests in /usr/local/lib/python3.10/dist-packages (from flask-ngrok) (2.31.0)\n",
            "Requirement already satisfied: Werkzeug>=2.2.2 in /usr/local/lib/python3.10/dist-packages (from Flask>=0.8->flask-ngrok) (3.0.1)\n",
            "Requirement already satisfied: Jinja2>=3.0 in /usr/local/lib/python3.10/dist-packages (from Flask>=0.8->flask-ngrok) (3.1.2)\n",
            "Requirement already satisfied: itsdangerous>=2.0 in /usr/local/lib/python3.10/dist-packages (from Flask>=0.8->flask-ngrok) (2.1.2)\n",
            "Requirement already satisfied: click>=8.0 in /usr/local/lib/python3.10/dist-packages (from Flask>=0.8->flask-ngrok) (8.1.7)\n",
            "Requirement already satisfied: charset-normalizer<4,>=2 in /usr/local/lib/python3.10/dist-packages (from requests->flask-ngrok) (3.3.2)\n",
            "Requirement already satisfied: idna<4,>=2.5 in /usr/local/lib/python3.10/dist-packages (from requests->flask-ngrok) (3.6)\n",
            "Requirement already satisfied: urllib3<3,>=1.21.1 in /usr/local/lib/python3.10/dist-packages (from requests->flask-ngrok) (2.0.7)\n",
            "Requirement already satisfied: certifi>=2017.4.17 in /usr/local/lib/python3.10/dist-packages (from requests->flask-ngrok) (2023.11.17)\n",
            "Requirement already satisfied: MarkupSafe>=2.0 in /usr/local/lib/python3.10/dist-packages (from Jinja2>=3.0->Flask>=0.8->flask-ngrok) (2.1.3)\n",
            "Installing collected packages: flask-ngrok\n",
            "Successfully installed flask-ngrok-0.0.25\n",
            "Authtoken saved to configuration file: /root/.config/ngrok/ngrok.yml\n"
          ]
        }
      ],
      "source": [
        "!pip install flask-ngrok\n",
        "!ngrok authtoken '2YStj1pM9wAHthoD7Uf0xu9eyJ5_6Bahc6v3st1Cq1s4WJDLr'"
      ]
    },
    {
      "cell_type": "code",
      "execution_count": 8,
      "metadata": {
        "colab": {
          "base_uri": "https://localhost:8080/"
        },
        "id": "tQyJJO11hBRt",
        "outputId": "a992aea8-ff15-471f-b54b-c0eb3f3de529"
      },
      "outputs": [
        {
          "output_type": "stream",
          "name": "stdout",
          "text": [
            "Authtoken saved to configuration file: /root/.config/ngrok/ngrok.yml\n"
          ]
        }
      ],
      "source": [
        "!ngrok config add-authtoken '2YStj1pM9wAHthoD7Uf0xu9eyJ5_6Bahc6v3st1Cq1s4WJDLr'"
      ]
    },
    {
      "cell_type": "markdown",
      "source": [
        "When the below code block is ran it asks for auth token input please input this: \"2YStj1pM9wAHthoD7Uf0xu9eyJ5_6Bahc6v3st1Cq1s4WJDLr\""
      ],
      "metadata": {
        "id": "AbDcz5RwugO3"
      }
    },
    {
      "cell_type": "code",
      "execution_count": 10,
      "metadata": {
        "colab": {
          "base_uri": "https://localhost:8080/"
        },
        "id": "EbyvfYbDhDZJ",
        "outputId": "e4c661c5-f01f-41fa-97a6-2bd2076200a5"
      },
      "outputs": [
        {
          "output_type": "stream",
          "name": "stdout",
          "text": [
            "Enter your authtoken, which can be copied from https://dashboard.ngrok.com/auth\n",
            "··········\n",
            " * ngrok tunnel available, access with `ssh root@6.tcp.ngrok.io -p16893`\n"
          ]
        }
      ],
      "source": [
        "import getpass\n",
        "\n",
        "from pyngrok import ngrok, conf\n",
        "\n",
        "print(\"Enter your authtoken, which can be copied from https://dashboard.ngrok.com/auth\")\n",
        "conf.get_default().auth_token = getpass.getpass()\n",
        "\n",
        "# Open a TCP ngrok tunnel to the SSH server\n",
        "connection_string = ngrok.connect(\"22\", \"tcp\").public_url\n",
        "\n",
        "ssh_url, port = connection_string.strip(\"tcp://\").split(\":\")\n",
        "print(f\" * ngrok tunnel available, access with `ssh root@{ssh_url} -p{port}`\")"
      ]
    },
    {
      "cell_type": "code",
      "execution_count": 11,
      "metadata": {
        "colab": {
          "base_uri": "https://localhost:8080/"
        },
        "id": "GPwDHCq3hLbQ",
        "outputId": "94f015dc-e78b-4ad1-bdc3-473e6d6da472"
      },
      "outputs": [
        {
          "output_type": "stream",
          "name": "stdout",
          "text": [
            " * ngrok tunnel \"https://ceeb-35-245-177-15.ngrok-free.app\" -> \"http://127.0.0.1:5000\"\n"
          ]
        }
      ],
      "source": [
        "import os\n",
        "import threading\n",
        "\n",
        "from flask import Flask, jsonify,request,render_template\n",
        "from pyngrok import ngrok\n",
        "from flask_ngrok import run_with_ngrok\n",
        "from werkzeug.datastructures import ImmutableMultiDict\n",
        "import numpy as np\n",
        "\n",
        "app = Flask(__name__)\n",
        "run_with_ngrok(app)\n",
        "port = \"5000\"\n",
        "\n",
        "# Open a ngrok tunnel to the HTTP server\n",
        "public_url = ngrok.connect(port).public_url\n",
        "print(\" * ngrok tunnel \\\"{}\\\" -> \\\"http://127.0.0.1:{}\\\"\".format(public_url, port))\n",
        "\n",
        "app.config[\"BASE_URL\"] = public_url\n",
        "session = {}\n",
        "# Define Flask routes\n",
        "@app.route(\"/\")\n",
        "def index():\n",
        "  ngrox_url = request.host_url\n",
        "  return render_template('index.html', ngrox_url = ngrox_url)\n",
        "\n",
        "@app.route(\"/predict\", methods=[\"POST\"])\n",
        "def predict_price():\n",
        "    ngrox_url = request.host_url\n",
        "    print(\"Request\")\n",
        "    print(request.form)\n",
        "    powerPS = request.form['powerPS']\n",
        "    data = ImmutableMultiDict(request.form)\n",
        "    print(data.get('fuelType'))\n",
        "\n",
        "    kilometer = request.form['kilometer']\n",
        "    model_id = request.form['model']\n",
        "    abtest_id = request.form['abtest']\n",
        "    vehicleType_id = request.form['vehicleType']\n",
        "    gearbox_id = request.form['gearbox']\n",
        "    notRepairedDamage_id = request.form['notRepairedDamage']\n",
        "    features = int(powerPS), int(kilometer), int(model_id), int(abtest_id), int(vehicleType_id), int(gearbox_id), int(notRepairedDamage_id)\n",
        "    print(features)\n",
        "    session[\"powerPS\"] = powerPS\n",
        "    session[\"kilometer\"] = kilometer\n",
        "    session[\"model_id\"] = request.form['model_name']\n",
        "    session[\"abtest_id\"] = request.form['abtest_name']\n",
        "    session[\"vehicleType_id\"] = request.form['vehicleType_name']\n",
        "    session[\"gearbox_id\"] = request.form['gearbox_name']\n",
        "    session[\"notRepairedDamage_id\"] = request.form['notRepairedDamage_name']\n",
        "    try:\n",
        "        prediction = model.predict([features])[0]\n",
        "        print(\"prediction\")\n",
        "        print(prediction)\n",
        "        return render_template('prediction.html', prediction = str(round(prediction)) + chr(36), session = session)\n",
        "\n",
        "    except Exception as e:\n",
        "        return jsonify({'error': str(e)})\n"
      ]
    },
    {
      "cell_type": "markdown",
      "source": [
        "After running the below code block click on the above ngrok tunnel which reidrects to a site and click in visit site then it redirects to the landing page"
      ],
      "metadata": {
        "id": "Rn7ybk7jupzp"
      }
    },
    {
      "cell_type": "code",
      "execution_count": 12,
      "metadata": {
        "colab": {
          "base_uri": "https://localhost:8080/"
        },
        "id": "LEZpk73fhNSy",
        "outputId": "b81f1ace-249c-4a32-8585-608a0792fa2e"
      },
      "outputs": [
        {
          "metadata": {
            "tags": null
          },
          "name": "stdout",
          "output_type": "stream",
          "text": [
            " * Serving Flask app '__main__'\n",
            " * Debug mode: off\n"
          ]
        },
        {
          "metadata": {
            "tags": null
          },
          "name": "stderr",
          "output_type": "stream",
          "text": [
            "INFO:werkzeug:\u001b[31m\u001b[1mWARNING: This is a development server. Do not use it in a production deployment. Use a production WSGI server instead.\u001b[0m\n",
            " * Running on http://127.0.0.1:5000\n",
            "INFO:werkzeug:\u001b[33mPress CTRL+C to quit\u001b[0m\n"
          ]
        },
        {
          "metadata": {
            "tags": null
          },
          "name": "stdout",
          "output_type": "stream",
          "text": [
            " * Running on tcp://4.tcp.ngrok.io:10113\n",
            " * Traffic stats available on http://127.0.0.1:4040\n"
          ]
        },
        {
          "metadata": {
            "tags": null
          },
          "name": "stderr",
          "output_type": "stream",
          "text": [
            "INFO:werkzeug:127.0.0.1 - - [09/Dec/2023 22:52:26] \"GET / HTTP/1.1\" 200 -\n",
            "INFO:werkzeug:127.0.0.1 - - [09/Dec/2023 22:52:26] \"GET /static/car_home_page.jpg HTTP/1.1\" 200 -\n",
            "INFO:werkzeug:127.0.0.1 - - [09/Dec/2023 22:52:27] \"\u001b[33mGET /favicon.ico HTTP/1.1\u001b[0m\" 404 -\n"
          ]
        },
        {
          "metadata": {
            "tags": null
          },
          "name": "stdout",
          "output_type": "stream",
          "text": [
            "Request\n",
            "ImmutableMultiDict([('vehicleType', '5'), ('vehicleType_name', 'Cabrio'), ('model', '8'), ('model_name', 'Scenic'), ('gearbox', '1'), ('gearbox_name', 'Automatic'), ('powerPS', '50'), ('kilometer', '500'), ('abtest', '1'), ('abtest_name', 'Control'), ('notRepairedDamage', '2'), ('notRepairedDamage_name', 'No')])\n",
            "None\n",
            "(50, 500, 8, 1, 5, 1, 2)\n",
            "prediction\n",
            "4474.833333333333\n"
          ]
        },
        {
          "output_type": "stream",
          "name": "stderr",
          "text": [
            "/usr/local/lib/python3.10/dist-packages/sklearn/base.py:439: UserWarning: X does not have valid feature names, but KNeighborsRegressor was fitted with feature names\n",
            "  warnings.warn(\n",
            "INFO:werkzeug:127.0.0.1 - - [09/Dec/2023 22:53:49] \"POST /predict HTTP/1.1\" 200 -\n",
            "INFO:werkzeug:127.0.0.1 - - [09/Dec/2023 22:53:49] \"\u001b[33mGET /static/style.css HTTP/1.1\u001b[0m\" 404 -\n",
            "INFO:werkzeug:127.0.0.1 - - [09/Dec/2023 22:53:49] \"GET /static/prediction_car.jpg HTTP/1.1\" 200 -\n",
            "INFO:werkzeug:127.0.0.1 - - [09/Dec/2023 22:53:49] \"GET /static/graph-2.jpeg HTTP/1.1\" 200 -\n",
            "INFO:werkzeug:127.0.0.1 - - [09/Dec/2023 22:53:49] \"GET /static/graph-3.jpeg HTTP/1.1\" 200 -\n",
            "INFO:werkzeug:127.0.0.1 - - [09/Dec/2023 22:53:49] \"GET /static/graph-1.jpeg HTTP/1.1\" 200 -\n",
            "INFO:werkzeug:127.0.0.1 - - [09/Dec/2023 22:53:49] \"GET /static/graph-4.jpeg HTTP/1.1\" 200 -\n",
            "WARNING:pyngrok.process.ngrok:t=2023-12-09T22:58:57+0000 lvl=warn msg=\"Stopping forwarder\" name=http-5000-7d437e14-721c-49c3-856c-d88b7eee33c9 acceptErr=\"failed to accept connection: Listener closed\"\n",
            "WARNING:pyngrok.process.ngrok:t=2023-12-09T22:58:57+0000 lvl=warn msg=\"Stopping forwarder\" name=tcp-22-a1bda339-d6fe-41f8-9f48-3745da0de261 acceptErr=\"failed to accept connection: Listener closed\"\n",
            "WARNING:pyngrok.process.ngrok:t=2023-12-09T22:58:57+0000 lvl=warn msg=\"Stopping forwarder\" name=tcp-22-0083b705-30a6-4c9b-a04e-1424c7966929 acceptErr=\"failed to accept connection: Listener closed\"\n"
          ]
        }
      ],
      "source": [
        "if __name__ == '__main__':\n",
        "  app.run()"
      ]
    },
    {
      "cell_type": "code",
      "execution_count": null,
      "metadata": {
        "id": "rDiZek69l9o5"
      },
      "outputs": [],
      "source": []
    }
  ],
  "metadata": {
    "colab": {
      "provenance": []
    },
    "kernelspec": {
      "display_name": "Python 3",
      "name": "python3"
    },
    "language_info": {
      "name": "python"
    }
  },
  "nbformat": 4,
  "nbformat_minor": 0
}